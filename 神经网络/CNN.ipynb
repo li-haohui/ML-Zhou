{
 "cells": [
  {
   "cell_type": "markdown",
   "id": "cc4d4d2d",
   "metadata": {},
   "source": [
    "# CNN 卷积网络"
   ]
  },
  {
   "cell_type": "markdown",
   "id": "5c71904f",
   "metadata": {},
   "source": [
    "## 基础知识\n",
    "\n",
    "### 输入量表示\n",
    "$$\\textbf{x} = [b, h, w, c]$$\n",
    "其中 $b$ : *batch size*  \n",
    "$h \\times w$ : *the size of each map*  \n",
    "$c$ : *number of channels*\n",
    "\n",
    "### 感知野 (Receptive Field)\n",
    "类似于人在观察的视线焦点范围\n",
    "![cnn](./Pic/CNN1.png)  \n",
    "并且实现权重共享\n",
    "![cnn](./Pic/CNN2.png)  \n",
    "\n",
    "### Channel数与卷积核深度\n",
    "![cnn](./Pic/CNN3.png)  \n",
    "当**输入 map** 有多个 channels 时，需要使用多个 $\\textbf{w}$ 矩阵, 即卷积核的深度  \n",
    "而这个 $\\textbf{w}$ 矩阵的尺寸由你所需观察的范围来确定，即 *kernel size*  \n",
    "卷积核描述方式\n",
    "$$\\textbf{w} = [n, c, s_k, s_k]$$\n",
    "其中  \n",
    "$n$ : 卷积核数量，取决于你想要输出的 map 的 channel 数  \n",
    "$c$ : 卷积核深度，取决于输入 map 的 channel 数\n",
    "\n",
    "### 卷积是什么\n",
    "先看卷积公式\n",
    "$$\n",
    "z(t) = \\int_{-\\infty}^{+\\infty}{f(\\tau) \\times g(t-\\tau)} d \\tau\n",
    "$$\n",
    "将其置于离散的情况下进行分析有  \n",
    "$f(\\tau)$: 卷积核  \n",
    "$g(t-\\tau)$ : 输入 map 在偏移 $t$ 个单位后的值  \n",
    "对应相乘求和\n",
    "\n",
    "### 多通道(Channel)处理\n",
    "以图为例\n",
    "![cnn](./Pic/CNN5.png)  \n",
    "其中所使用卷积核为\n",
    "$$ \\textbf{w} = \n",
    "\\begin{pmatrix}\n",
    "1 &  0& 1 \\\\\n",
    "0 &  1& 0 \\\\\n",
    "1 &  0& 1 \\\\\n",
    "\\end{pmatrix}\n",
    "$$\n",
    "输出结果进行累加得到\n",
    "![cnn](./Pic/CNN6.png)  \n",
    "\n",
    "### Padding (填充or打补丁)\n",
    "在输入 map 的边缘补上一些值，使得输出 map 的尺寸和输入的 map 尺寸一致\n",
    "![cnn](./Pic/CNN7.png)  \n",
    "\n",
    "### Stride (步长)\n",
    "即在两次卷积操作之间进行偏移的大小，即 $g(t-\\tau)$ 中 $t$ 的大小，该值将影响该层输出 map 的尺寸。\n",
    "\n",
    "### 池化 (Pooling) 和采样\n",
    "池化，即下采样\n",
    "![cnn](./Pic/CNN8.png)  \n",
    "将卷积得到的 map 下采样得到新的 map\n",
    "* Max Pooling: 选取区域中的最大值\n",
    "* Avg Pooling: 使用区域中值的平均值  \n",
    "上采样，即将输入 map 放大尺寸，通常采样插值法\n",
    "\n",
    "### ReLU 层\n",
    "将输入 map 中的负值去除"
   ]
  },
  {
   "cell_type": "markdown",
   "id": "c837fd1e",
   "metadata": {},
   "source": [
    "## 具体例子\n",
    "![cnn](./Pic/CNN4.png)  \n",
    "其中  \n",
    "$\\textbf{x} = [1, 5, 5, 1]$  \n",
    "$\\textbf{w} = [1, 3, 3]$\n",
    "![cnn](./Pic/CNN5.png)  \n",
    "其中  \n",
    "$\\textbf{x} = [1, 5, 5, 3]$  \n",
    "$\\textbf{w} = [3, 3, 3]$"
   ]
  },
  {
   "cell_type": "code",
   "execution_count": null,
   "id": "889e01fa",
   "metadata": {},
   "outputs": [],
   "source": []
  }
 ],
 "metadata": {
  "kernelspec": {
   "display_name": "Python 3 (ipykernel)",
   "language": "python",
   "name": "python3"
  },
  "language_info": {
   "codemirror_mode": {
    "name": "ipython",
    "version": 3
   },
   "file_extension": ".py",
   "mimetype": "text/x-python",
   "name": "python",
   "nbconvert_exporter": "python",
   "pygments_lexer": "ipython3",
   "version": "3.9.5"
  }
 },
 "nbformat": 4,
 "nbformat_minor": 5
}
