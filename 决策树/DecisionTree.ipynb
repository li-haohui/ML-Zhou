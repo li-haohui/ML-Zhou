{
 "cells": [
  {
   "cell_type": "markdown",
   "id": "b9a338a1",
   "metadata": {},
   "source": [
    "# 决策树"
   ]
  },
  {
   "cell_type": "markdown",
   "id": "243dddb0",
   "metadata": {},
   "source": [
    "先看伪代码\n",
    "\n",
    "```\n",
    "输入：测试集 D = {(x1, y1), (x2, y2), ..., (xm, ym)};\n",
    "    属性集 A = {a1, a2, ..., ad};\n",
    "过程：函数 TreeGenerate(D, A)\n",
    "1: 生成结点 node;\n",
    "2: if D 中样本全属于同一类别 C then\n",
    "3：  将 node 标记为 C 类叶结点; return;\n",
    "4: end if\n",
    "5: if A.size == 0 OR D 中样本在 A 上取值相同 then\n",
    "6:  将 node 标记为叶结点，其类型标记为 D 中样本数最多的类; return;\n",
    "7: end if\n",
    "8: 从 A 中选择最优划分属性 a;\n",
    "9: for a 的每一个值 av do\n",
    "10:  为 node 生成一个分支; 令 Dv 表示 D 中在 a 上取值为 av 的样本子集;\n",
    "11:  if Dv 为空 then\n",
    "12:    将分支结点标记为叶结点，其类别标记为 D 中样本最多的类; return;\n",
    "13:  else\n",
    "14:    以 TreeGenerate(Dv, A\\{a})为分支结点\n",
    "15:  end if\n",
    "16: end for\n",
    "输出:  以 node 为根结点的一棵决策树\n",
    "```"
   ]
  },
  {
   "cell_type": "markdown",
   "id": "66c02e03",
   "metadata": {},
   "source": [
    "## 选择最优划分属性 (line 8)\n",
    "常用判断依据 **结点的“纯度”**，而度量结点纯度的指标通常为 “信息熵”。  \n",
    "假设属性 $a$ 有 $V$ 个可能取值， 若使用属性 $a$ 对样本集 $D$ 进行划分, 则产生 $V$ 个分支结点。计算每个分支结点的“信息熵”，并赋予各结点权重，可得“信息增益”\n",
    "\n",
    "### 信息熵 (information entropy)\n",
    "信息熵的定义\n",
    "$$\n",
    "Ent(D) = - \\sum^{|y|}_{k=1}{p_klog_2p_k}\n",
    "$$\n",
    "$Ent(D)$ 的值越小，则 $D$ 的纯度越高.\n",
    "\n",
    "### 信息增益 (information gain)\n",
    "公式为\n",
    "$$\n",
    "Gain(D,a) = Ent(D) - \\sum^{V}_{v=1}{\\frac{|Dv|}{|D|}Ent(Dv)}\n",
    "$$\n",
    "一般来说，信息增益越大，意味着使用属性 $a$ 来进行划分所获得的“纯度提升”越大。"
   ]
  },
  {
   "cell_type": "markdown",
   "id": "3b06243c",
   "metadata": {},
   "source": [
    "## 剪枝\n",
    "\n",
    "### 预剪枝\n",
    "在决策树生成过程中，对每个结点在划分前先进行估计，若当前结点的划分不能带来决策树泛化性能的提升，则停止划分并将当前结点标记为叶结点。\n",
    "\n",
    "### 后剪枝\n",
    "先从训练集生成一颗完整的决策树，然后自底向上地对非叶结点进行考察，若将该结点对应的子树替换为叶结点能带来决策树泛化性能的提升，则将该子树替换为叶结点。"
   ]
  },
  {
   "cell_type": "markdown",
   "id": "5bd05c8b",
   "metadata": {},
   "source": [
    "## 连续值处理\n",
    "\n",
    "对于值连续的属性 $a$，将已有值进行从小到大排序，取划分点 $t$，将该取值集合划分为 $D^{-}_t$ 和 $D^{+}_t$。  \n",
    "有可选取划分点集合\n",
    "$$\n",
    "T_a = \\left\\{ \\frac{a^i+a^{i+1}}{2} | 1 \\le i \\le n-1 \\right\\}\n",
    "$$\n",
    "而最优的划分点可由改造后的信息增益公式来获得\n",
    "$$\n",
    "\\begin{aligned}\n",
    "Gain(D,a) &= {max}_{t \\in T_a}  Gain(D,a,t)\n",
    "    &= {max}_{t \\in T_a} Ent(D) - \\sum_{\\lambda \\in \\left\\{ -, + \\right\\}}{\\frac{|D^{\\lambda}_t|}{|D|} Ent(D^{\\lambda}_t)}\n",
    "\\end{aligned}\n",
    "$$\n",
    "其中 $Gain(D,a,t)$ 是样本集 $D$ 基于划分点 $t$ 二分后的信息增益。"
   ]
  },
  {
   "cell_type": "code",
   "execution_count": null,
   "id": "d07e7866",
   "metadata": {},
   "outputs": [],
   "source": []
  }
 ],
 "metadata": {
  "kernelspec": {
   "display_name": "Python 3 (ipykernel)",
   "language": "python",
   "name": "python3"
  },
  "language_info": {
   "codemirror_mode": {
    "name": "ipython",
    "version": 3
   },
   "file_extension": ".py",
   "mimetype": "text/x-python",
   "name": "python",
   "nbconvert_exporter": "python",
   "pygments_lexer": "ipython3",
   "version": "3.7.9"
  }
 },
 "nbformat": 4,
 "nbformat_minor": 5
}
